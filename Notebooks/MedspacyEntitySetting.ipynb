{
 "cells": [
  {
   "cell_type": "code",
   "execution_count": 1,
   "id": "9de634b6-ebda-417a-a8c5-4c72f53277b6",
   "metadata": {},
   "outputs": [],
   "source": [
    "import spacy"
   ]
  },
  {
   "cell_type": "code",
   "execution_count": 2,
   "id": "99bc3495-e523-42de-88c2-a0789566ab2d",
   "metadata": {},
   "outputs": [],
   "source": [
    "sampleText = \"This patient is heterozygous in the PPP2R5D gene for a de novo variant designated c.598G>A, which is predicted to result in the amino acid substitution p.Glu200Lys. This is a recurrent de novo variant that has been reported to be causative for autosomal dominant intellectual disability (Table 1, Houge et al. 2015. PubMed ID: 26168268; Table 1, Loveday et al. 2015. PubMed ID: 25972378; Supp. Tables 6 and 10, Lelieveld et al. 2017. PubMed ID: 28867141; Table 1, Reijnders et al. 2017. PubMed ID: 29051493). In summary, we interpret this variant as pathogenic. Pathogenic variants in PPP2R5D are associated with autosomal dominant intellectual disability 35 (OMIM: #616355). Clinical features include increased height (variable), macrocephaly (variable), absent speech, dysmorphic facial features, delayed psychomotor development, and seizures. Variants are reported to occur de novo. Clinical correlation is recommended.\"\n"
   ]
  },
  {
   "cell_type": "code",
   "execution_count": 3,
   "id": "3da8dd30-ad3d-420f-9356-9150af860612",
   "metadata": {},
   "outputs": [],
   "source": [
    "nlp = spacy.load(\"en_core_web_sm\")\n"
   ]
  },
  {
   "cell_type": "code",
   "execution_count": 4,
   "id": "ecbb56bd-a675-4767-8597-1a15dfe2de24",
   "metadata": {},
   "outputs": [],
   "source": [
    "# Create a Doc object\n",
    "doc = nlp(sampleText)"
   ]
  },
  {
   "cell_type": "code",
   "execution_count": 8,
   "id": "6635d755-0af3-4b61-9d7e-8d5cfa526306",
   "metadata": {},
   "outputs": [],
   "source": [
    "# Get the span for the entity\n",
    "from spacy.tokens import Span\n",
    "start1 = 36 #offsets from BertGenetic\n",
    "start2 = 585\n",
    "end1 = 48\n",
    "end2 = 592\n",
    "#doc\n",
    "span1 = doc.char_span(start1, end1, label=\"GENETIC\")\n",
    "span2 = doc.char_span(start2, end2, label=\"GENETIC\")\n",
    "\n",
    "#span1 = Span(doc, start1, end1, label=\"GENETIC\")\n",
    "#span2 = Span(doc, start2, end2, label=\"GENETIC\")"
   ]
  },
  {
   "cell_type": "markdown",
   "id": "1d7976f9-726c-4098-b93d-3d150dcb5d15",
   "metadata": {},
   "source": [
    "         "
   ]
  },
  {
   "cell_type": "code",
   "execution_count": 10,
   "id": "f5ff2276-d78b-45d0-87aa-73ed3ea68733",
   "metadata": {},
   "outputs": [
    {
     "name": "stdout",
     "output_type": "stream",
     "text": [
      "PPP2R5D gene GENETIC\n",
      "Table 1 LAW\n",
      "2015 DATE\n",
      "26168268 DATE\n",
      "Table 1 PRODUCT\n",
      "2015 DATE\n",
      "25972378 CARDINAL\n",
      "Supp ORG\n",
      "6 CARDINAL\n",
      "10 CARDINAL\n",
      "Lelieveld GPE\n",
      "2017 DATE\n",
      "28867141 CARDINAL\n",
      "Table 1 PRODUCT\n",
      "2017 DATE\n",
      "29051493 DATE\n",
      "PPP2R5D GENETIC\n",
      "35 CARDINAL\n",
      "616355 MONEY\n",
      "macrocephaly GPE\n"
     ]
    }
   ],
   "source": [
    "doc.ents = list(doc.ents) + [span1,span2]\n",
    "\n",
    "# Print the entities in the Doc object\n",
    "for ent in doc.ents:\n",
    "    print(ent.text, ent.label_)"
   ]
  },
  {
   "cell_type": "code",
   "execution_count": null,
   "id": "d432523c-3dc8-4402-ada5-b8765bad82d6",
   "metadata": {},
   "outputs": [],
   "source": []
  }
 ],
 "metadata": {
  "kernelspec": {
   "display_name": "Python 3 (ipykernel)",
   "language": "python",
   "name": "python3"
  },
  "language_info": {
   "codemirror_mode": {
    "name": "ipython",
    "version": 3
   },
   "file_extension": ".py",
   "mimetype": "text/x-python",
   "name": "python",
   "nbconvert_exporter": "python",
   "pygments_lexer": "ipython3",
   "version": "3.9.12"
  }
 },
 "nbformat": 4,
 "nbformat_minor": 5
}
